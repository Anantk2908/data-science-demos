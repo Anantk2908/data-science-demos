{
 "cells": [
  {
   "cell_type": "markdown",
   "metadata": {
    "colab_type": "text",
    "id": "8V_XhlJhAqLz"
   },
   "source": [
    "## Explorations with DevoLearn\n",
    "\n",
    "The objectives of this notebook are:\n",
    "\n",
    "* Visualize the distances between the centroids of each cell in the C. elegans embryo during embryogenesis \n",
    "\n",
    "* Try and make a 3d model of the C. elegans emryo using images from n different planes of the same embryo. \n"
   ]
  },
  {
   "cell_type": "code",
   "execution_count": null,
   "metadata": {
    "colab": {},
    "colab_type": "code",
    "id": "w5V0UII_wYyv"
   },
   "outputs": [],
   "source": [
    "!pip install devolearn"
   ]
  },
  {
   "cell_type": "code",
   "execution_count": null,
   "metadata": {
    "colab": {},
    "colab_type": "code",
    "id": "FDiViDBTwi1u"
   },
   "outputs": [],
   "source": [
    "import os\n",
    "import matplotlib.pyplot as plt \n",
    "import pandas as pd\n",
    "import numpy as np\n",
    "import cv2\n",
    "from IPython.display import clear_output\n",
    "from scipy.spatial import distance"
   ]
  },
  {
   "cell_type": "markdown",
   "metadata": {
    "colab_type": "text",
    "id": "gnHjuCgmBsYG"
   },
   "source": [
    "In our case, we import the `embryo_segmentor` model, you can learn  more about it [here](https://github.com/DevoLearn/devolearn#segmenting-the-c-elegans-embryo)\n",
    "\n",
    "\n"
   ]
  },
  {
   "cell_type": "code",
   "execution_count": null,
   "metadata": {
    "colab": {},
    "colab_type": "code",
    "id": "mb8bgNY4woSY"
   },
   "outputs": [],
   "source": [
    "from devolearn import embryo_segmentor"
   ]
  },
  {
   "cell_type": "code",
   "execution_count": null,
   "metadata": {
    "colab": {},
    "colab_type": "code",
    "id": "ELxrqvgiws1H"
   },
   "outputs": [],
   "source": [
    "model = embryo_segmentor()"
   ]
  },
  {
   "cell_type": "markdown",
   "metadata": {
    "colab_type": "text",
    "id": "JZl0qSMpCMHk"
   },
   "source": [
    "### Loading and extracting image data from google drive \n",
    "\n",
    "If you want a copy of the image data for yourself, feel free to get in touch with us on [slack workspace](https://openworm.slack.com/archives/CMVFU7Q4W)"
   ]
  },
  {
   "cell_type": "code",
   "execution_count": null,
   "metadata": {
    "colab": {},
    "colab_type": "code",
    "id": "gk1yC3YDwwNi"
   },
   "outputs": [],
   "source": [
    "!cp /content/drive/\"My Drive\"/segmentation/3d_segmentation/training_data.zip /content/\n",
    "!cp /content/drive/\"My Drive\"/segmentation/3d_segmentation/metadata.csv /content/"
   ]
  },
  {
   "cell_type": "code",
   "execution_count": null,
   "metadata": {
    "colab": {},
    "colab_type": "code",
    "id": "mH73nMZ1xCr0"
   },
   "outputs": [],
   "source": [
    "!unzip training_data.zip "
   ]
  },
  {
   "cell_type": "code",
   "execution_count": null,
   "metadata": {
    "colab": {
     "base_uri": "https://localhost:8080/",
     "height": 194
    },
    "colab_type": "code",
    "id": "dmoi-GW0xEnG",
    "outputId": "f08eb381-c9cd-4b3a-e86c-ca74224c6e54"
   },
   "outputs": [
    {
     "data": {
      "text/html": [
       "<div>\n",
       "<style scoped>\n",
       "    .dataframe tbody tr th:only-of-type {\n",
       "        vertical-align: middle;\n",
       "    }\n",
       "\n",
       "    .dataframe tbody tr th {\n",
       "        vertical-align: top;\n",
       "    }\n",
       "\n",
       "    .dataframe thead th {\n",
       "        text-align: right;\n",
       "    }\n",
       "</style>\n",
       "<table border=\"1\" class=\"dataframe\">\n",
       "  <thead>\n",
       "    <tr style=\"text-align: right;\">\n",
       "      <th></th>\n",
       "      <th>image</th>\n",
       "      <th>mask</th>\n",
       "    </tr>\n",
       "  </thead>\n",
       "  <tbody>\n",
       "    <tr>\n",
       "      <th>8925</th>\n",
       "      <td>training_data/images/real_94_55.jpg</td>\n",
       "      <td>training_data/masks/mask_94_55_1.jpg</td>\n",
       "    </tr>\n",
       "    <tr>\n",
       "      <th>8926</th>\n",
       "      <td>training_data/images/real_94_56.jpg</td>\n",
       "      <td>training_data/masks/mask_94_56_0.jpg</td>\n",
       "    </tr>\n",
       "    <tr>\n",
       "      <th>8927</th>\n",
       "      <td>training_data/images/real_94_56.jpg</td>\n",
       "      <td>training_data/masks/mask_94_56_1.jpg</td>\n",
       "    </tr>\n",
       "    <tr>\n",
       "      <th>8928</th>\n",
       "      <td>training_data/images/real_94_57.jpg</td>\n",
       "      <td>training_data/masks/mask_94_57_0.jpg</td>\n",
       "    </tr>\n",
       "    <tr>\n",
       "      <th>8929</th>\n",
       "      <td>training_data/images/real_94_57.jpg</td>\n",
       "      <td>training_data/masks/mask_94_57_1.jpg</td>\n",
       "    </tr>\n",
       "  </tbody>\n",
       "</table>\n",
       "</div>"
      ],
      "text/plain": [
       "                                    image                                  mask\n",
       "8925  training_data/images/real_94_55.jpg  training_data/masks/mask_94_55_1.jpg\n",
       "8926  training_data/images/real_94_56.jpg  training_data/masks/mask_94_56_0.jpg\n",
       "8927  training_data/images/real_94_56.jpg  training_data/masks/mask_94_56_1.jpg\n",
       "8928  training_data/images/real_94_57.jpg  training_data/masks/mask_94_57_0.jpg\n",
       "8929  training_data/images/real_94_57.jpg  training_data/masks/mask_94_57_1.jpg"
      ]
     },
     "execution_count": 352,
     "metadata": {
      "tags": []
     },
     "output_type": "execute_result"
    }
   ],
   "source": [
    "df = pd.read_csv(\"metadata.csv\")\n",
    "df.tail()"
   ]
  },
  {
   "cell_type": "markdown",
   "metadata": {
    "colab_type": "text",
    "id": "9vRV2ommC3VO"
   },
   "source": [
    "## Selecting the images of a single embryo for experimentation\n",
    "\n",
    "We would first try to extract the centroids of a single embryo's cells while it undergoes embryogenesis"
   ]
  },
  {
   "cell_type": "code",
   "execution_count": null,
   "metadata": {
    "colab": {},
    "colab_type": "code",
    "id": "OqmmWFWnxP9Z"
   },
   "outputs": [],
   "source": [
    "image_paths  = df[df[\"image\"].str.contains(\"25.jpg\") == True][\"image\"].unique()"
   ]
  },
  {
   "cell_type": "markdown",
   "metadata": {
    "colab_type": "text",
    "id": "btB_OWLgFQ8D"
   },
   "source": [
    "Notice how `centroid_mode` is set to `True`\n"
   ]
  },
  {
   "cell_type": "code",
   "execution_count": null,
   "metadata": {
    "colab": {},
    "colab_type": "code",
    "id": "DszYuaJVxnV3"
   },
   "outputs": [],
   "source": [
    "sg, centroids = model.predict(image_paths[0], centroid_mode= True)"
   ]
  },
  {
   "cell_type": "markdown",
   "metadata": {
    "colab_type": "text",
    "id": "6WHXitp6FFzl"
   },
   "source": [
    "## Visualizing the centroids which were determined by the model in Devolearn\n",
    "\n",
    "If you want to know visualize the number assigned to each centroid, uncomment the `cv2.putText` line"
   ]
  },
  {
   "cell_type": "code",
   "execution_count": null,
   "metadata": {
    "colab": {},
    "colab_type": "code",
    "id": "9sh0Ds2dxodR"
   },
   "outputs": [],
   "source": [
    "black = np.zeros(sg.shape)\n",
    "\n",
    "distance_matrix = np.zeros((len(centroids),len(centroids)))\n",
    "\n",
    "for i in range(len(centroids)):\n",
    "    black = cv2.circle(black, centroids[i], 5, color = (255,255,255), thickness = 2)\n",
    "    # black = cv2.putText(black, str(i), centroids[i], fontFace = cv2.FONT_HERSHEY_SIMPLEX, fontScale = 1, color = (255,255,255))\n",
    "\n",
    "for m in range(len(centroids)):\n",
    "    main = centroids[m]\n",
    "    for n in range(len(centroids)):\n",
    "        black = cv2.line(black, main, centroids[n], color = 255)\n",
    "        distance_matrix[m][n] = distance.euclidean(main, centroids[n])"
   ]
  },
  {
   "cell_type": "code",
   "execution_count": null,
   "metadata": {
    "colab": {
     "base_uri": "https://localhost:8080/",
     "height": 287
    },
    "colab_type": "code",
    "id": "hhoV0MRYzuqf",
    "outputId": "8eaddd92-4ac6-4a90-ce20-2abb3480afe7"
   },
   "outputs": [
    {
     "data": {
      "text/plain": [
       "<matplotlib.image.AxesImage at 0x7f63cbcd9470>"
      ]
     },
     "execution_count": 362,
     "metadata": {
      "tags": []
     },
     "output_type": "execute_result"
    },
    {
     "data": {
      "image/png": "[encoded data removed]",
      "text/plain": [
       "<Figure size 432x288 with 1 Axes>"
      ]
     },
     "metadata": {
      "needs_background": "light",
      "tags": []
     },
     "output_type": "display_data"
    }
   ],
   "source": [
    "plt.imshow(black)"
   ]
  },
  {
   "cell_type": "markdown",
   "metadata": {
    "colab_type": "text",
    "id": "pSW8QeyoGsoZ"
   },
   "source": [
    "## The `distance_matrix`\n",
    "\n",
    "This matrix visualizes the distance between every \"node\" in form of a square matrix. Notice how the matrix is symmetric because the distance between node A and node  is the same as node B to A. "
   ]
  },
  {
   "cell_type": "code",
   "execution_count": null,
   "metadata": {
    "colab": {
     "base_uri": "https://localhost:8080/",
     "height": 283
    },
    "colab_type": "code",
    "id": "DN0b8OwordpD",
    "outputId": "8e442d60-cfc3-473d-8016-cb9121fcc17f"
   },
   "outputs": [
    {
     "data": {
      "text/plain": [
       "<matplotlib.image.AxesImage at 0x7f63cbb169e8>"
      ]
     },
     "execution_count": 364,
     "metadata": {
      "tags": []
     },
     "output_type": "execute_result"
    },
    {
     "data": {
      "image/png": "[encoded data removed]",
      "text/plain": [
       "<Figure size 432x288 with 1 Axes>"
      ]
     },
     "metadata": {
      "needs_background": "light",
      "tags": []
     },
     "output_type": "display_data"
    }
   ],
   "source": [
    "plt.imshow(distance_matrix)"
   ]
  },
  {
   "cell_type": "markdown",
   "metadata": {
    "colab_type": "text",
    "id": "urFg_ZnzHHW0"
   },
   "source": [
    "## Scaling up the process for all the images \n",
    "\n",
    "If you want to visualize the nodes on a black image instead of the segmented contours, you can uncomment the `black = np.zeros(sg.shape)` line and comment out the `black = sg` line. "
   ]
  },
  {
   "cell_type": "code",
   "execution_count": null,
   "metadata": {
    "colab": {},
    "colab_type": "code",
    "id": "S4bCNKtf2swY"
   },
   "outputs": [],
   "source": [
    "def make_node_map(image_path):\n",
    "    sg, centroids = model.predict(image_path, centroid_mode= True)\n",
    "    # black = np.zeros(sg.shape)\n",
    "    black = sg\n",
    "    real = cv2.imread(image_path,0)\n",
    "\n",
    "    distance_matrix = np.zeros((len(centroids),len(centroids)))\n",
    "\n",
    "    for i in range(len(centroids)):\n",
    "        black = cv2.circle(black, centroids[i], 5, thickness = 2, color = (255,255,255))\n",
    "        # black = cv2.putText(black, str(i), centroids[i], fontFace = cv2.FONT_HERSHEY_SIMPLEX, fontScale = 1, color = (255,255,255))\n",
    "\n",
    "    for m in range(len(centroids)):\n",
    "        main = centroids[m]\n",
    "        for n in range(len(centroids)):\n",
    "            black = cv2.line(black, main, centroids[n], color = 255, thickness = 1)\n",
    "            distance_matrix[m][n] = distance.euclidean(main, centroids[n])\n",
    "\n",
    "    \n",
    "    return real ,black, distance_matrix"
   ]
  },
  {
   "cell_type": "code",
   "execution_count": null,
   "metadata": {
    "colab": {
     "base_uri": "https://localhost:8080/",
     "height": 263
    },
    "colab_type": "code",
    "id": "o6aLp87ltYN3",
    "outputId": "a84721bc-a656-406c-e57c-4e88f5684f91"
   },
   "outputs": [
    {
     "data": {
      "text/plain": [
       "<matplotlib.image.AxesImage at 0x7f63bd7a08d0>"
      ]
     },
     "execution_count": 368,
     "metadata": {
      "tags": []
     },
     "output_type": "execute_result"
    },
    {
     "data": {
      "image/png": "[encoded data removed]",
      "text/plain": [
       "<Figure size 864x1080 with 3 Axes>"
      ]
     },
     "metadata": {
      "needs_background": "light",
      "tags": []
     },
     "output_type": "display_data"
    }
   ],
   "source": [
    "real, nodes , map = make_node_map(image_paths[50])\n",
    "\n",
    "fig, ax = plt.subplots(1,3, figsize = (12,15))\n",
    "\n",
    "ax.flat[0].imshow(real)\n",
    "ax.flat[1].imshow(nodes)\n",
    "ax.flat[2].imshow(map)"
   ]
  },
  {
   "cell_type": "markdown",
   "metadata": {
    "colab_type": "text",
    "id": "WL6jBqMFHocK"
   },
   "source": [
    "## Creating an animation to better visualize the node maps\n",
    "\n",
    "All the frames would be saved in the `animation` folder"
   ]
  },
  {
   "cell_type": "code",
   "execution_count": null,
   "metadata": {
    "colab": {},
    "colab_type": "code",
    "id": "fgqTwBFgkf4E"
   },
   "outputs": [],
   "source": [
    "!rm -rf animation\n",
    "!mkdir animation"
   ]
  },
  {
   "cell_type": "code",
   "execution_count": null,
   "metadata": {
    "colab": {},
    "colab_type": "code",
    "id": "zU0l9kT539I_"
   },
   "outputs": [],
   "source": [
    "count = 0\n",
    "for path in image_paths:\n",
    "    print(path)\n",
    "\n",
    "    real, nodes,map = make_node_map(path)\n",
    "\n",
    "    fig, ax = plt.subplots(1,3, figsize = (12,5))\n",
    "\n",
    "    ax.flat[0].imshow(real)\n",
    "    ax.flat[1].imshow(nodes)\n",
    "    ax.flat[2].imshow(map)\n",
    "\n",
    "\n",
    "    ax.flat[0].set_xlabel('real', fontsize = 15)\n",
    "    ax.flat[1].set_xlabel('node map', fontsize = 15)\n",
    "    ax.flat[2].set_xlabel('distance matrix', fontsize = 15)\n",
    "\n",
    "\n",
    "    \n",
    "    clear_output(wait = True)\n",
    "    fig.savefig(\"animation/\" + str(count) + \".jpg\")\n",
    "    count += 1"
   ]
  },
  {
   "cell_type": "code",
   "execution_count": null,
   "metadata": {
    "colab": {},
    "colab_type": "code",
    "id": "BGN5LSU8s6kL"
   },
   "outputs": [],
   "source": [
    "from PIL import Image"
   ]
  },
  {
   "cell_type": "code",
   "execution_count": null,
   "metadata": {
    "colab": {
     "base_uri": "https://localhost:8080/",
     "height": 35
    },
    "colab_type": "code",
    "id": "r0NJzXVB4WJF",
    "outputId": "ac890498-81a3-43aa-b43b-f156cb16fc12"
   },
   "outputs": [
    {
     "name": "stdout",
     "output_type": "stream",
     "text": [
      "95\n"
     ]
    }
   ],
   "source": [
    "names = [ \"animation/\" + str(i) + \".jpg\" for i in range (0, count, 1)]\n",
    "images = []\n",
    "for n in names:\n",
    "    frame = Image.open(n)\n",
    "    images.append(frame)\n",
    "print(len(images))"
   ]
  },
  {
   "cell_type": "code",
   "execution_count": null,
   "metadata": {
    "colab": {},
    "colab_type": "code",
    "id": "9fMDMdwns5TJ"
   },
   "outputs": [],
   "source": [
    "images[0].save('nodes_matrix_long_smooth.gif',\n",
    "               save_all=True,\n",
    "               append_images=images[1:],\n",
    "               duration=150,\n",
    "               loop=0)"
   ]
  },
  {
   "cell_type": "markdown",
   "metadata": {
    "colab_type": "text",
    "id": "s07ZVcn5JVCn"
   },
   "source": [
    "## Saving the extracted centroids into a CSV file "
   ]
  },
  {
   "cell_type": "code",
   "execution_count": null,
   "metadata": {
    "colab": {},
    "colab_type": "code",
    "id": "BMWXtj3m07x_"
   },
   "outputs": [],
   "source": [
    "centroids = []\n",
    "for i in range(len(image_paths)):\n",
    "    sg, centroid = model.predict(image_paths[i], centroid_mode= True)\n",
    "    centroids.append([centroid])\n"
   ]
  },
  {
   "cell_type": "code",
   "execution_count": null,
   "metadata": {
    "colab": {},
    "colab_type": "code",
    "id": "wsLCU5pc1ND_"
   },
   "outputs": [],
   "source": [
    "df = pd.DataFrame(centroids)"
   ]
  },
  {
   "cell_type": "code",
   "execution_count": null,
   "metadata": {
    "colab": {},
    "colab_type": "code",
    "id": "C-dpPFpq1hQj"
   },
   "outputs": [],
   "source": [
    "df.columns = [\"centroids (x, y)\"]"
   ]
  },
  {
   "cell_type": "code",
   "execution_count": null,
   "metadata": {
    "colab": {
     "base_uri": "https://localhost:8080/",
     "height": 194
    },
    "colab_type": "code",
    "id": "Ko6qXVUm1t3_",
    "outputId": "9cfc8a71-c4c8-40d0-90b9-57ac204c3b70"
   },
   "outputs": [
    {
     "data": {
      "text/html": [
       "<div>\n",
       "<style scoped>\n",
       "    .dataframe tbody tr th:only-of-type {\n",
       "        vertical-align: middle;\n",
       "    }\n",
       "\n",
       "    .dataframe tbody tr th {\n",
       "        vertical-align: top;\n",
       "    }\n",
       "\n",
       "    .dataframe thead th {\n",
       "        text-align: right;\n",
       "    }\n",
       "</style>\n",
       "<table border=\"1\" class=\"dataframe\">\n",
       "  <thead>\n",
       "    <tr style=\"text-align: right;\">\n",
       "      <th></th>\n",
       "      <th>centroids (x, y)</th>\n",
       "    </tr>\n",
       "  </thead>\n",
       "  <tbody>\n",
       "    <tr>\n",
       "      <th>0</th>\n",
       "      <td>[(184, 174), (270, 141), (113, 78), (92, 131),...</td>\n",
       "    </tr>\n",
       "    <tr>\n",
       "      <th>1</th>\n",
       "      <td>[(112, 198), (183, 175), (271, 140), (91, 129)...</td>\n",
       "    </tr>\n",
       "    <tr>\n",
       "      <th>2</th>\n",
       "      <td>[(184, 180), (271, 140), (90, 126), (191, 82)]</td>\n",
       "    </tr>\n",
       "    <tr>\n",
       "      <th>3</th>\n",
       "      <td>[(91, 179), (182, 185), (273, 140), (92, 124),...</td>\n",
       "    </tr>\n",
       "    <tr>\n",
       "      <th>4</th>\n",
       "      <td>[(178, 186), (273, 138), (93, 123), (198, 89)]</td>\n",
       "    </tr>\n",
       "  </tbody>\n",
       "</table>\n",
       "</div>"
      ],
      "text/plain": [
       "                                    centroids (x, y)\n",
       "0  [(184, 174), (270, 141), (113, 78), (92, 131),...\n",
       "1  [(112, 198), (183, 175), (271, 140), (91, 129)...\n",
       "2     [(184, 180), (271, 140), (90, 126), (191, 82)]\n",
       "3  [(91, 179), (182, 185), (273, 140), (92, 124),...\n",
       "4     [(178, 186), (273, 138), (93, 123), (198, 89)]"
      ]
     },
     "execution_count": 378,
     "metadata": {
      "tags": []
     },
     "output_type": "execute_result"
    }
   ],
   "source": [
    "df.head()"
   ]
  },
  {
   "cell_type": "code",
   "execution_count": null,
   "metadata": {
    "colab": {},
    "colab_type": "code",
    "id": "sFd_ZcZ01-2u"
   },
   "outputs": [],
   "source": [
    "df.to_csv(\"c_elegans_centroids.csv\")"
   ]
  },
  {
   "cell_type": "markdown",
   "metadata": {
    "colab_type": "text",
    "id": "j_BL1wPZJd1k"
   },
   "source": [
    "# Moving on towards the next objective\n",
    "\n",
    "i.e  trying to make a 3d model of the C. elegans embryo using images from n different planes of the same embryo"
   ]
  },
  {
   "cell_type": "code",
   "execution_count": null,
   "metadata": {
    "colab": {},
    "colab_type": "code",
    "id": "5FqbcSrCmKrS"
   },
   "outputs": [],
   "source": [
    "df = pd.read_csv(\"metadata.csv\")\n",
    "image_paths  = df[df[\"image\"].str.contains(\"real_45\") == True][\"image\"].unique()"
   ]
  },
  {
   "cell_type": "code",
   "execution_count": null,
   "metadata": {
    "colab": {},
    "colab_type": "code",
    "id": "2TkTaf44XV7a"
   },
   "outputs": [],
   "source": [
    "centroids = []\n",
    "for i in range(len(image_paths)):\n",
    "    sg, centroid = model.predict(image_paths[i], centroid_mode= True)\n",
    "    centroids.append(centroid)"
   ]
  },
  {
   "cell_type": "code",
   "execution_count": null,
   "metadata": {
    "colab": {},
    "colab_type": "code",
    "id": "3kxxXP_CYMGs"
   },
   "outputs": [],
   "source": [
    "centroids = np.array(centroids)"
   ]
  },
  {
   "cell_type": "markdown",
   "metadata": {
    "colab_type": "text",
    "id": "8vOJ_mxFLffD"
   },
   "source": [
    "## Mapping the centroids into a 3d plot for visualization\n",
    "\n",
    "For our case, we do not use all the centroids, this was done in order regulate the density of the scatterplot. Try tweaking the step size in the for loop for a denser plot. "
   ]
  },
  {
   "cell_type": "code",
   "execution_count": 397,
   "metadata": {
    "colab": {},
    "colab_type": "code",
    "id": "EJuIhKE1ZlfO"
   },
   "outputs": [],
   "source": [
    "x_s = []\n",
    "y_s = []\n",
    "z_s = []\n",
    "\n",
    "for i in range(0,len(centroids),15):\n",
    "    x,y = [list(c) for c in zip(*centroids[i])]\n",
    "    z = np.ones(len(x))*i\n",
    "\n",
    "    x_s.extend(x)\n",
    "    y_s.extend(y)\n",
    "    z_s.extend(z)"
   ]
  },
  {
   "cell_type": "code",
   "execution_count": 399,
   "metadata": {
    "colab": {
     "base_uri": "https://localhost:8080/",
     "height": 247
    },
    "colab_type": "code",
    "id": "wIN1ym4rcTCx",
    "outputId": "2e396b85-f7f7-4a6e-effd-3b50b4d196e7"
   },
   "outputs": [
    {
     "data": {
      "image/png": "[encoded data removed]",
      "text/plain": [
       "<Figure size 432x288 with 1 Axes>"
      ]
     },
     "metadata": {
      "needs_background": "light",
      "tags": []
     },
     "output_type": "display_data"
    }
   ],
   "source": [
    "\n",
    "fig = plt.figure()\n",
    "ax = fig.add_subplot(111, projection='3d')\n",
    "ax.set_xlim(0, 350)\n",
    "ax.set_ylim(0, 250)\n",
    "\n",
    "ax.scatter(x_s,y_s,z_s, cmap = \"jet\", marker = \"o\", s = 55)\n",
    "ax.view_init(30, 20)\n"
   ]
  },
  {
   "cell_type": "markdown",
   "metadata": {
    "colab_type": "text",
    "id": "9AfWgkr8MyiJ"
   },
   "source": [
    "## Making an animation \n",
    "\n",
    "The animation would help us visualize the 3d node map from different angles. "
   ]
  },
  {
   "cell_type": "code",
   "execution_count": null,
   "metadata": {
    "colab": {},
    "colab_type": "code",
    "id": "znbjNLpldIpT"
   },
   "outputs": [],
   "source": [
    "from matplotlib import animation"
   ]
  },
  {
   "cell_type": "code",
   "execution_count": 394,
   "metadata": {
    "colab": {},
    "colab_type": "code",
    "id": "V0E720hAc_pK"
   },
   "outputs": [],
   "source": [
    "def rotate(angle):\n",
    "    ax.view_init(elev = angle//5, azim=angle)  ## x y plane angle \n",
    "\n",
    "    if angle < 100:\n",
    "        ax.set_zlim(0, int((angle/100) * 90)) ## z elevation upto 100th frame\n",
    "\n",
    "rot_animation = animation.FuncAnimation(fig, rotate, frames=np.arange(0,150,1),interval=75)\n",
    "rot_animation.save('3d_node_map.gif', dpi=80, writer='pillow')"
   ]
  }
 ],
 "metadata": {
  "colab": {
   "collapsed_sections": [],
   "name": "experiments_with_devolearn.ipynb",
   "provenance": [],
   "toc_visible": true
  },
  "kernelspec": {
   "display_name": "Python 3",
   "language": "python",
   "name": "python3"
  },
  "language_info": {
   "codemirror_mode": {
    "name": "ipython",
    "version": 3
   },
   "file_extension": ".py",
   "mimetype": "text/x-python",
   "name": "python",
   "nbconvert_exporter": "python",
   "pygments_lexer": "ipython3",
   "version": "3.7.3"
  }
 },
 "nbformat": 4,
 "nbformat_minor": 1
}
