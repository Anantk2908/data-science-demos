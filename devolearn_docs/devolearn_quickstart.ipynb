{
 "cells": [
  {
   "cell_type": "markdown",
   "metadata": {
    "id": "lBHiFUrc2GUi"
   },
   "source": [
    "\n",
    "<img src = \"https://raw.githubusercontent.com/DevoLearn/devolearn/master/images/banner_1.jpg\">\n",
    "\n",
    "## Hello and welcome to devolearn !\n"
   ]
  },
  {
   "cell_type": "markdown",
   "metadata": {},
   "source": [
    "### Install from PyPI"
   ]
  },
  {
   "cell_type": "code",
   "execution_count": null,
   "metadata": {
    "id": "wr_NE8mXEHtS"
   },
   "outputs": [],
   "source": [
    "!pip install devolearn --upgrade"
   ]
  },
  {
   "cell_type": "markdown",
   "metadata": {},
   "source": [
    "### Install from Github"
   ]
  },
  {
   "cell_type": "code",
   "execution_count": 1,
   "metadata": {},
   "outputs": [
    {
     "name": "stdout",
     "output_type": "stream",
     "text": [
      "Collecting git+https://github.com/DevoLearn/devolearn\n",
      "  Cloning https://github.com/DevoLearn/devolearn to /tmp/pip-req-build-m69q56la\n",
      "  Running command git clone --filter=blob:none --quiet https://github.com/DevoLearn/devolearn /tmp/pip-req-build-m69q56la\n",
      "  Resolved https://github.com/DevoLearn/devolearn to commit e3c4a1c9ed5d56b0ece3be2d38c709f9c429e0de\n",
      "  Preparing metadata (setup.py) ... \u001b[?25ldone\n",
      "\u001b[?25hCollecting cycler==0.10.0\n",
      "  Downloading cycler-0.10.0-py2.py3-none-any.whl (6.5 kB)\n",
      "Collecting decorator==4.4.2\n",
      "  Downloading decorator-4.4.2-py2.py3-none-any.whl (9.2 kB)\n",
      "Collecting efficientnet-pytorch==0.6.3\n",
      "  Using cached efficientnet_pytorch-0.6.3.tar.gz (16 kB)\n",
      "  Preparing metadata (setup.py) ... \u001b[?25ldone\n",
      "\u001b[?25hRequirement already satisfied: future==0.18.2 in /home/anant/anaconda3/lib/python3.9/site-packages (from devolearn==0.3.0) (0.18.2)\n",
      "Requirement already satisfied: imageio==2.9.0 in /home/anant/anaconda3/lib/python3.9/site-packages (from devolearn==0.3.0) (2.9.0)\n",
      "Collecting imgaug==0.2.5\n",
      "  Using cached imgaug-0.2.5.tar.gz (562 kB)\n",
      "  Preparing metadata (setup.py) ... \u001b[?25ldone\n",
      "\u001b[?25hCollecting imutils==0.5.3\n",
      "  Using cached imutils-0.5.3.tar.gz (17 kB)\n",
      "  Preparing metadata (setup.py) ... \u001b[?25ldone\n",
      "\u001b[?25hCollecting joblib==1.0.0\n",
      "  Downloading joblib-1.0.0-py3-none-any.whl (302 kB)\n",
      "\u001b[2K     \u001b[38;2;114;156;31m━━━━━━━━━━━━━━━━━━━━━━━━━━━━━━━━━━━━━━━\u001b[0m \u001b[32m303.0/303.0 kB\u001b[0m \u001b[31m1.4 MB/s\u001b[0m eta \u001b[36m0:00:00\u001b[0m[31m1.5 MB/s\u001b[0m eta \u001b[36m0:00:01\u001b[0m\n",
      "\u001b[?25hCollecting kiwisolver==1.3.1\n",
      "  Downloading kiwisolver-1.3.1-cp39-cp39-manylinux1_x86_64.whl (1.2 MB)\n",
      "\u001b[2K     \u001b[38;2;114;156;31m━━━━━━━━━━━━━━━━━━━━━━━━━━━━━━━━━━━━━━━━\u001b[0m \u001b[32m1.2/1.2 MB\u001b[0m \u001b[31m2.8 MB/s\u001b[0m eta \u001b[36m0:00:00\u001b[0mm eta \u001b[36m0:00:01\u001b[0m0:01\u001b[0m:01\u001b[0m\n",
      "\u001b[?25hRequirement already satisfied: matplotlib in /home/anant/anaconda3/lib/python3.9/site-packages (from devolearn==0.3.0) (3.5.1)\n",
      "Collecting munch==2.5.0\n",
      "  Using cached munch-2.5.0-py2.py3-none-any.whl (10 kB)\n",
      "Collecting networkx==2.5\n",
      "  Downloading networkx-2.5-py3-none-any.whl (1.6 MB)\n",
      "\u001b[2K     \u001b[38;2;114;156;31m━━━━━━━━━━━━━━━━━━━━━━━━━━━━━━━━━━━━━━━━\u001b[0m \u001b[32m1.6/1.6 MB\u001b[0m \u001b[31m1.3 MB/s\u001b[0m eta \u001b[36m0:00:00\u001b[0mm eta \u001b[36m0:00:01\u001b[0m[36m0:00:01\u001b[0m\n",
      "\u001b[?25hCollecting numpy==1.19.5\n",
      "  Downloading numpy-1.19.5-cp39-cp39-manylinux2010_x86_64.whl (14.9 MB)\n",
      "\u001b[2K     \u001b[38;2;114;156;31m━━━━━━━━━━━━━━━━━━━━━━━━━━━━━━━━━━━━━━━━\u001b[0m \u001b[32m14.9/14.9 MB\u001b[0m \u001b[31m1.1 MB/s\u001b[0m eta \u001b[36m0:00:00\u001b[0mm eta \u001b[36m0:00:01\u001b[0m[36m0:00:01\u001b[0m\n",
      "\u001b[?25hCollecting opencv-python==4.5.1.48\n",
      "  Downloading opencv_python-4.5.1.48-cp39-cp39-manylinux2014_x86_64.whl (50.4 MB)\n",
      "\u001b[2K     \u001b[38;2;249;38;114m━━━━━━━━━━━━━━━━━━━\u001b[0m\u001b[38;5;237m╺\u001b[0m\u001b[38;5;237m━━━━━━━━━━━━━━━━━━━━\u001b[0m \u001b[32m24.4/50.4 MB\u001b[0m \u001b[31m1.1 MB/s\u001b[0m eta \u001b[36m0:00:24\u001b[0m:24\u001b[0mm\n",
      "\u001b[?25h\u001b[31mERROR: Exception:\n",
      "Traceback (most recent call last):\n",
      "  File \"/home/anant/anaconda3/lib/python3.9/site-packages/pip/_vendor/urllib3/response.py\", line 435, in _error_catcher\n",
      "    yield\n",
      "  File \"/home/anant/anaconda3/lib/python3.9/site-packages/pip/_vendor/urllib3/response.py\", line 516, in read\n",
      "    data = self._fp.read(amt) if not fp_closed else b\"\"\n",
      "  File \"/home/anant/anaconda3/lib/python3.9/site-packages/pip/_vendor/cachecontrol/filewrapper.py\", line 90, in read\n",
      "    data = self.__fp.read(amt)\n",
      "  File \"/home/anant/anaconda3/lib/python3.9/http/client.py\", line 463, in read\n",
      "    n = self.readinto(b)\n",
      "  File \"/home/anant/anaconda3/lib/python3.9/http/client.py\", line 507, in readinto\n",
      "    n = self.fp.readinto(b)\n",
      "  File \"/home/anant/anaconda3/lib/python3.9/socket.py\", line 704, in readinto\n",
      "    return self._sock.recv_into(b)\n",
      "  File \"/home/anant/anaconda3/lib/python3.9/ssl.py\", line 1241, in recv_into\n",
      "    return self.read(nbytes, buffer)\n",
      "  File \"/home/anant/anaconda3/lib/python3.9/ssl.py\", line 1099, in read\n",
      "    return self._sslobj.read(len, buffer)\n",
      "socket.timeout: The read operation timed out\n",
      "\n",
      "During handling of the above exception, another exception occurred:\n",
      "\n",
      "Traceback (most recent call last):\n",
      "  File \"/home/anant/anaconda3/lib/python3.9/site-packages/pip/_internal/cli/base_command.py\", line 167, in exc_logging_wrapper\n",
      "    status = run_func(*args)\n",
      "  File \"/home/anant/anaconda3/lib/python3.9/site-packages/pip/_internal/cli/req_command.py\", line 205, in wrapper\n",
      "    return func(self, options, args)\n",
      "  File \"/home/anant/anaconda3/lib/python3.9/site-packages/pip/_internal/commands/install.py\", line 341, in run\n",
      "    requirement_set = resolver.resolve(\n",
      "  File \"/home/anant/anaconda3/lib/python3.9/site-packages/pip/_internal/resolution/resolvelib/resolver.py\", line 94, in resolve\n",
      "    result = self._result = resolver.resolve(\n",
      "  File \"/home/anant/anaconda3/lib/python3.9/site-packages/pip/_vendor/resolvelib/resolvers.py\", line 481, in resolve\n",
      "    state = resolution.resolve(requirements, max_rounds=max_rounds)\n",
      "  File \"/home/anant/anaconda3/lib/python3.9/site-packages/pip/_vendor/resolvelib/resolvers.py\", line 373, in resolve\n",
      "    failure_causes = self._attempt_to_pin_criterion(name)\n",
      "  File \"/home/anant/anaconda3/lib/python3.9/site-packages/pip/_vendor/resolvelib/resolvers.py\", line 213, in _attempt_to_pin_criterion\n",
      "    criteria = self._get_updated_criteria(candidate)\n",
      "  File \"/home/anant/anaconda3/lib/python3.9/site-packages/pip/_vendor/resolvelib/resolvers.py\", line 204, in _get_updated_criteria\n",
      "    self._add_to_criteria(criteria, requirement, parent=candidate)\n",
      "  File \"/home/anant/anaconda3/lib/python3.9/site-packages/pip/_vendor/resolvelib/resolvers.py\", line 172, in _add_to_criteria\n",
      "    if not criterion.candidates:\n",
      "  File \"/home/anant/anaconda3/lib/python3.9/site-packages/pip/_vendor/resolvelib/structs.py\", line 151, in __bool__\n",
      "    return bool(self._sequence)\n",
      "  File \"/home/anant/anaconda3/lib/python3.9/site-packages/pip/_internal/resolution/resolvelib/found_candidates.py\", line 155, in __bool__\n",
      "    return any(self)\n",
      "  File \"/home/anant/anaconda3/lib/python3.9/site-packages/pip/_internal/resolution/resolvelib/found_candidates.py\", line 143, in <genexpr>\n",
      "    return (c for c in iterator if id(c) not in self._incompatible_ids)\n",
      "  File \"/home/anant/anaconda3/lib/python3.9/site-packages/pip/_internal/resolution/resolvelib/found_candidates.py\", line 47, in _iter_built\n",
      "    candidate = func()\n",
      "  File \"/home/anant/anaconda3/lib/python3.9/site-packages/pip/_internal/resolution/resolvelib/factory.py\", line 215, in _make_candidate_from_link\n",
      "    self._link_candidate_cache[link] = LinkCandidate(\n",
      "  File \"/home/anant/anaconda3/lib/python3.9/site-packages/pip/_internal/resolution/resolvelib/candidates.py\", line 291, in __init__\n",
      "    super().__init__(\n",
      "  File \"/home/anant/anaconda3/lib/python3.9/site-packages/pip/_internal/resolution/resolvelib/candidates.py\", line 161, in __init__\n",
      "    self.dist = self._prepare()\n",
      "  File \"/home/anant/anaconda3/lib/python3.9/site-packages/pip/_internal/resolution/resolvelib/candidates.py\", line 230, in _prepare\n",
      "    dist = self._prepare_distribution()\n",
      "  File \"/home/anant/anaconda3/lib/python3.9/site-packages/pip/_internal/resolution/resolvelib/candidates.py\", line 302, in _prepare_distribution\n",
      "    return preparer.prepare_linked_requirement(self._ireq, parallel_builds=True)\n",
      "  File \"/home/anant/anaconda3/lib/python3.9/site-packages/pip/_internal/operations/prepare.py\", line 428, in prepare_linked_requirement\n",
      "    return self._prepare_linked_requirement(req, parallel_builds)\n",
      "  File \"/home/anant/anaconda3/lib/python3.9/site-packages/pip/_internal/operations/prepare.py\", line 473, in _prepare_linked_requirement\n",
      "    local_file = unpack_url(\n",
      "  File \"/home/anant/anaconda3/lib/python3.9/site-packages/pip/_internal/operations/prepare.py\", line 155, in unpack_url\n",
      "    file = get_http_url(\n",
      "  File \"/home/anant/anaconda3/lib/python3.9/site-packages/pip/_internal/operations/prepare.py\", line 96, in get_http_url\n",
      "    from_path, content_type = download(link, temp_dir.path)\n",
      "  File \"/home/anant/anaconda3/lib/python3.9/site-packages/pip/_internal/network/download.py\", line 146, in __call__\n",
      "    for chunk in chunks:\n",
      "  File \"/home/anant/anaconda3/lib/python3.9/site-packages/pip/_internal/cli/progress_bars.py\", line 53, in _rich_progress_bar\n",
      "    for chunk in iterable:\n",
      "  File \"/home/anant/anaconda3/lib/python3.9/site-packages/pip/_internal/network/utils.py\", line 63, in response_chunks\n",
      "    for chunk in response.raw.stream(\n",
      "  File \"/home/anant/anaconda3/lib/python3.9/site-packages/pip/_vendor/urllib3/response.py\", line 573, in stream\n",
      "    data = self.read(amt=amt, decode_content=decode_content)\n",
      "  File \"/home/anant/anaconda3/lib/python3.9/site-packages/pip/_vendor/urllib3/response.py\", line 538, in read\n",
      "    raise IncompleteRead(self._fp_bytes_read, self.length_remaining)\n",
      "  File \"/home/anant/anaconda3/lib/python3.9/contextlib.py\", line 137, in __exit__\n",
      "    self.gen.throw(typ, value, traceback)\n",
      "  File \"/home/anant/anaconda3/lib/python3.9/site-packages/pip/_vendor/urllib3/response.py\", line 440, in _error_catcher\n",
      "    raise ReadTimeoutError(self._pool, None, \"Read timed out.\")\n",
      "pip._vendor.urllib3.exceptions.ReadTimeoutError: HTTPSConnectionPool(host='files.pythonhosted.org', port=443): Read timed out.\u001b[0m\u001b[31m\n",
      "\u001b[0m"
     ]
    }
   ],
   "source": [
    "!pip install git+https://github.com/DevoLearn/devolearn"
   ]
  },
  {
   "cell_type": "code",
   "execution_count": null,
   "metadata": {
    "id": "oYZSeKKGYGft"
   },
   "outputs": [],
   "source": [
    "!git clone https://github.com/DevoLearn/devolearn.git\n",
    "## for sample data"
   ]
  },
  {
   "cell_type": "code",
   "execution_count": null,
   "metadata": {
    "id": "RyEUqDklBu3G"
   },
   "outputs": [],
   "source": [
    "from devolearn import Generator, embryo_generator_model\n",
    "from devolearn import lineage_population_model\n",
    "from devolearn import cell_nucleus_segmentor\n",
    "from devolearn import cell_membrane_segmentora\n",
    "import torch\n",
    "\n",
    "import matplotlib.pyplot as plt\n",
    "import os \n",
    "import cv2"
   ]
  },
  {
   "cell_type": "markdown",
   "metadata": {
    "id": "-QeDsDbrrVSd"
   },
   "source": [
    "## Importing a Pre-Trained model\n",
    "\n",
    "The first time you'll run the cell below, devolearn will automatically download the latest model weights from GitHub"
   ]
  },
  {
   "cell_type": "code",
   "execution_count": null,
   "metadata": {
    "id": "1VIZY1ZT3p5_"
   },
   "outputs": [],
   "source": [
    "model = lineage_population_model('cuda:0' if torch.cuda.is_available() else 'cpu')"
   ]
  },
  {
   "cell_type": "markdown",
   "metadata": {
    "id": "nK6xkDZ4rapn"
   },
   "source": [
    "## Estimating the lineage-wise population of cells within the C. elegans embryo from a photo  "
   ]
  },
  {
   "cell_type": "code",
   "execution_count": null,
   "metadata": {
    "colab": {
     "base_uri": "https://localhost:8080/"
    },
    "id": "_dsx5e_lB4Gy",
    "outputId": "9856bcc6-95e7-4bdc-fa76-dada993a5f41"
   },
   "outputs": [],
   "source": [
    "pred = model.predict(image_path = \"devolearn/devolearn/tests/sample_data/images/embryo_sample.png\")\n",
    "print(pred)"
   ]
  },
  {
   "cell_type": "markdown",
   "metadata": {
    "id": "I761VfZDruhF"
   },
   "source": [
    "## Estimating the same populations from a video file\n",
    "\n",
    "\n",
    "\n",
    "One can directly save the frame-wise video predictions into a CSV file with `save_csv = True`"
   ]
  },
  {
   "cell_type": "code",
   "execution_count": null,
   "metadata": {
    "id": "LLfMjz6m5i_u"
   },
   "outputs": [],
   "source": [
    "if os.path.isdir(\"sample_preds\") is not True:\n",
    "    os.mkdir(\"sample_preds\")\n",
    "\n",
    "results = model.predict_from_video(video_path = \"devolearn/devolearn/tests/sample_data/videos/embryo_timelapse.mov\", \n",
    "                                   save_csv = True, \n",
    "                                   csv_name = \"sample_preds/video_preds.csv\", \n",
    "                                   ignore_first_n_frames= 10, \n",
    "                                   ignore_last_n_frames= 10 \n",
    "                                   )\n"
   ]
  },
  {
   "cell_type": "code",
   "execution_count": null,
   "metadata": {
    "colab": {
     "base_uri": "https://localhost:8080/",
     "height": 198
    },
    "id": "NKO_KhCL6MEq",
    "outputId": "242b80e3-dc72-46bb-e1d2-ca4883ffa4a4"
   },
   "outputs": [],
   "source": [
    "results.tail(5)"
   ]
  },
  {
   "cell_type": "markdown",
   "metadata": {
    "id": "MHkrvbbCsDcp"
   },
   "source": [
    "##  Generating a population plot directly from a video file "
   ]
  },
  {
   "cell_type": "code",
   "execution_count": null,
   "metadata": {
    "colab": {
     "base_uri": "https://localhost:8080/",
     "height": 428
    },
    "id": "4sEJxAjIB-DJ",
    "outputId": "f3c759b4-31a0-4423-b483-8cf276968906"
   },
   "outputs": [],
   "source": [
    "plt.rcParams['figure.figsize'] = 15, 7\n",
    "                                    \n",
    "plot = model.create_population_plot_from_video(video_path = \"devolearn/devolearn/tests/sample_data/videos/embryo_timelapse.mov\", \n",
    "                                               save_plot= True, \n",
    "                                               plot_name= \"sample_preds/plot.jpg\", \n",
    "                                               ignore_last_n_frames= 0 \n",
    "                                               )\n",
    "plot.grid()\n",
    "plot.show()"
   ]
  },
  {
   "cell_type": "markdown",
   "metadata": {
    "id": "NP_JgTUbsMPH"
   },
   "source": [
    "## Using the pre-trained GAN to synthetic images of embryos "
   ]
  },
  {
   "cell_type": "code",
   "execution_count": null,
   "metadata": {
    "id": "jt5d1Q_C65vo"
   },
   "outputs": [],
   "source": [
    "generator = embryo_generator_model()"
   ]
  },
  {
   "cell_type": "code",
   "execution_count": null,
   "metadata": {
    "colab": {
     "base_uri": "https://localhost:8080/",
     "height": 432
    },
    "id": "K6lrADzPCPvA",
    "outputId": "7c5bc531-809c-4c80-8ed0-24a85351767f"
   },
   "outputs": [],
   "source": [
    "gen_image = generator.generate()  ## returns a 2d numpy array \n",
    "plt.imshow(gen_image)\n",
    "plt.show()"
   ]
  },
  {
   "cell_type": "markdown",
   "metadata": {
    "id": "MG-fR_cesV5O"
   },
   "source": [
    "## Bulk generation using the GAN \n",
    "\n",
    "All the generated images get saved into the folder `foldername`"
   ]
  },
  {
   "cell_type": "code",
   "execution_count": null,
   "metadata": {
    "colab": {
     "base_uri": "https://localhost:8080/",
     "height": 575
    },
    "id": "Nwo49fwFCqgF",
    "outputId": "12880795-ca3e-4add-9147-890580a687a2"
   },
   "outputs": [],
   "source": [
    "generator.generate_n_images(n = 20, \n",
    "                            foldername= \"generated_images\", \n",
    "                            image_size= (700,500)  ## (width,height)\n",
    "                            )\n",
    "\n",
    "fig, ax = plt.subplots(3,3, figsize = (12,9))\n",
    "\n",
    "image_paths = os.listdir(\"generated_images\")\n",
    "for i in range(9):\n",
    "    image = cv2.imread(\"generated_images/\" + image_paths[i], 0)\n",
    "    ax.flat[i].imshow(image)\n"
   ]
  },
  {
   "cell_type": "markdown",
   "metadata": {
    "id": "-RBEFiBIskEc"
   },
   "source": [
    "## Segmenting the C. elegans embryo "
   ]
  },
  {
   "cell_type": "code",
   "execution_count": null,
   "metadata": {
    "id": "xRUtkHG_9FV6"
   },
   "outputs": [],
   "source": [
    "segmentor = cell_membrane_segmentor()"
   ]
  },
  {
   "cell_type": "markdown",
   "metadata": {
    "id": "zTWa-vQgstfL"
   },
   "source": [
    "### Segmenting an image "
   ]
  },
  {
   "cell_type": "code",
   "execution_count": null,
   "metadata": {
    "colab": {
     "base_uri": "https://localhost:8080/",
     "height": 432
    },
    "id": "ITmSHOYM9I35",
    "outputId": "2571df19-4e60-4b50-d306-0f1c6de0a3db"
   },
   "outputs": [],
   "source": [
    "seg_pred = segmentor.predict(image_path = \"devolearn/devolearn/tests/sample_data/images/seg_sample.jpg\", centroid_mode =False )\n",
    "plt.imshow(seg_pred)\n",
    "plt.show()"
   ]
  },
  {
   "cell_type": "markdown",
   "metadata": {
    "id": "6GXrRcPIsxwo"
   },
   "source": [
    "### Segmenting and extracting the centroids "
   ]
  },
  {
   "cell_type": "code",
   "execution_count": null,
   "metadata": {
    "colab": {
     "base_uri": "https://localhost:8080/",
     "height": 432
    },
    "id": "a6uIOd47CxRU",
    "outputId": "ab1e686c-76d7-4714-a97b-4a145f3cb340"
   },
   "outputs": [],
   "source": [
    "seg_pred, centroids = segmentor.predict(image_path = \"devolearn/devolearn/tests/sample_data/images/seg_sample.jpg\", centroid_mode = True)\n",
    "plt.imshow(seg_pred)\n",
    "plt.show()"
   ]
  },
  {
   "cell_type": "markdown",
   "metadata": {
    "id": "KdkZIyjvs8RI"
   },
   "source": [
    "# Frame by frame segmentation from video files\n",
    "\n",
    "All the segmented frames get saved into the folder `save_folder`"
   ]
  },
  {
   "cell_type": "code",
   "execution_count": null,
   "metadata": {
    "id": "6GCcrrzY947L"
   },
   "outputs": [],
   "source": [
    "filenames = segmentor.predict_from_video(video_path = \"devolearn/devolearn/tests/sample_data/videos/seg_sample.mov\", \n",
    "                                         centroid_mode = False, \n",
    "                                         save_folder = \"segmented_images\"\n",
    "                                         )"
   ]
  },
  {
   "cell_type": "code",
   "execution_count": null,
   "metadata": {
    "colab": {
     "base_uri": "https://localhost:8080/",
     "height": 538
    },
    "id": "tTHAN5Y19XDt",
    "outputId": "d27b1202-15e9-494e-dcb1-4e2eecef1b4c"
   },
   "outputs": [],
   "source": [
    "fig, ax = plt.subplots(3,3, figsize = (12,9))\n",
    "\n",
    "segmented_image_paths = os.listdir(\"segmented_images\")\n",
    "for i in range(9):\n",
    "    image = cv2.imread(\"segmented_images/\" + segmented_image_paths[i], 0)\n",
    "    ax.flat[i].imshow(image)"
   ]
  },
  {
   "cell_type": "markdown",
   "metadata": {
    "id": "fypmGeNKtngi"
   },
   "source": [
    "### Segmenting from a video and saving the centroids into a CSV file \n",
    "\n"
   ]
  },
  {
   "cell_type": "code",
   "execution_count": null,
   "metadata": {
    "id": "ZU00_xO_VRPa"
   },
   "outputs": [],
   "source": [
    "df = segmentor.predict_from_video(video_path = \"devolearn/devolearn/tests/sample_data/videos/seg_sample.mov\", \n",
    "                                  centroid_mode = True, \n",
    "                                  save_folder = \"centroid\")\n",
    "df.to_csv(\"centroids.csv\")"
   ]
  },
  {
   "cell_type": "code",
   "execution_count": null,
   "metadata": {
    "colab": {
     "base_uri": "https://localhost:8080/",
     "height": 538
    },
    "id": "mbqtvsK__qym",
    "outputId": "a576db01-0c39-437d-95d8-710c613bfa94"
   },
   "outputs": [],
   "source": [
    "fig, ax = plt.subplots(3,3, figsize = (12,9))\n",
    "\n",
    "segmented_image_paths = os.listdir(\"centroid\")\n",
    "for i in range(9):\n",
    "    image = cv2.imread(\"centroid/\" + segmented_image_paths[i], 0)\n",
    "    ax.flat[i].imshow(image)"
   ]
  },
  {
   "cell_type": "markdown",
   "metadata": {},
   "source": [
    "## Run tests (optional)"
   ]
  },
  {
   "cell_type": "code",
   "execution_count": null,
   "metadata": {},
   "outputs": [],
   "source": [
    "import devolearn\n",
    "os.path.dirname(devolearn.__file__) + \"/\" + \"tests\" + \"/\" + \"test.py\"\n",
    "!python /content/devolearn/devolearn/tests/test.py"
   ]
  }
 ],
 "metadata": {
  "colab": {
   "collapsed_sections": [],
   "name": "devolearn_quickstart.ipynb",
   "provenance": []
  },
  "kernelspec": {
   "display_name": "Python 3 (ipykernel)",
   "language": "python",
   "name": "python3"
  },
  "language_info": {
   "codemirror_mode": {
    "name": "ipython",
    "version": 3
   },
   "file_extension": ".py",
   "mimetype": "text/x-python",
   "name": "python",
   "nbconvert_exporter": "python",
   "pygments_lexer": "ipython3",
   "version": "3.9.12"
  }
 },
 "nbformat": 4,
 "nbformat_minor": 1
}
